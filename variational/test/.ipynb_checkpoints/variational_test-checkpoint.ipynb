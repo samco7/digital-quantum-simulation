{
 "cells": [
  {
   "cell_type": "markdown",
   "id": "d0dc711a",
   "metadata": {},
   "source": [
    "# Variational Method Test"
   ]
  },
  {
   "cell_type": "code",
   "execution_count": 5,
   "id": "e65ed474",
   "metadata": {},
   "outputs": [
    {
     "ename": "ModuleNotFoundError",
     "evalue": "No module named 'shor_function'",
     "output_type": "error",
     "traceback": [
      "\u001b[0;31m---------------------------------------------------------------------------\u001b[0m",
      "\u001b[0;31mModuleNotFoundError\u001b[0m                       Traceback (most recent call last)",
      "Cell \u001b[0;32mIn[5], line 16\u001b[0m\n\u001b[1;32m     13\u001b[0m \u001b[38;5;28;01mfrom\u001b[39;00m \u001b[38;5;21;01mqiskit\u001b[39;00m\u001b[38;5;21;01m.\u001b[39;00m\u001b[38;5;21;01mopflow\u001b[39;00m                    \u001b[38;5;28;01mimport\u001b[39;00m Z, I, X, Y\n\u001b[1;32m     14\u001b[0m \u001b[38;5;28;01mfrom\u001b[39;00m \u001b[38;5;21;01mqiskit\u001b[39;00m\u001b[38;5;21;01m.\u001b[39;00m\u001b[38;5;21;01mopflow\u001b[39;00m         \t\t\t  \u001b[38;5;28;01mimport\u001b[39;00m PauliOp, SummedOp\n\u001b[0;32m---> 16\u001b[0m \u001b[38;5;28;01mfrom\u001b[39;00m \u001b[38;5;21;01mshor_function\u001b[39;00m  \u001b[38;5;28;01mimport\u001b[39;00m \u001b[38;5;241m*\u001b[39m\n\u001b[1;32m     17\u001b[0m \u001b[38;5;28;01mfrom\u001b[39;00m \u001b[38;5;21;01mpVQD\u001b[39;00m\t\t\t\u001b[38;5;28;01mimport\u001b[39;00m \u001b[38;5;241m*\u001b[39m\n\u001b[1;32m     18\u001b[0m \u001b[38;5;28;01mfrom\u001b[39;00m \u001b[38;5;21;01mansatze\u001b[39;00m        \u001b[38;5;28;01mimport\u001b[39;00m \u001b[38;5;241m*\u001b[39m\n",
      "\u001b[0;31mModuleNotFoundError\u001b[0m: No module named 'shor_function'"
     ]
    }
   ],
   "source": [
    "import numpy as np  \n",
    "import functools\n",
    "import itertools\n",
    "import matplotlib.pyplot as plt \n",
    "from scipy   import  linalg as LA \n",
    "import json\n",
    "\n",
    "from qiskit import IBMQ, Aer\n",
    "from qiskit import QuantumCircuit, ClassicalRegister, QuantumRegister\n",
    "from qiskit.circuit import ParameterVector\n",
    "\n",
    "from qiskit.utils                     import QuantumInstance\n",
    "from qiskit.opflow                    import Z, I, X, Y\n",
    "from qiskit.opflow         \t\t\t  import PauliOp, SummedOp\n",
    "\n",
    "from shor_function  import *\n",
    "from pVQD\t\t\timport *\n",
    "from ansatze        import *"
   ]
  },
  {
   "cell_type": "code",
   "execution_count": null,
   "id": "47ed5047",
   "metadata": {},
   "outputs": [],
   "source": [
    "potential = lambda x: x**2\n",
    "true_sol = lambda x, t: normalize(1/np.sqrt(2)*np.pi**(-1/4)*(2*x**2 - 1)*np.exp(-x**2/2)*np.exp(-1j*5*t))\n",
    "initial_wave_function = lambda x: true_sol(x, 0)"
   ]
  },
  {
   "cell_type": "code",
   "execution_count": null,
   "id": "a4578dd0",
   "metadata": {},
   "outputs": [],
   "source": [
    "# Initialize system parameters for Time-dependent Schrodinger\n",
    "n       = 6\n",
    "N       = 2**n\n",
    "L       = 5\n",
    "dx      = 2*L/N\n",
    "x_grid = np.arange(-L, L - dx/2, dx)\n",
    "# g       = 1.0\n",
    "dt      = 0.05\n",
    "n_steps = 1\n",
    "\n",
    "# Algorithm parameters\n",
    "\n",
    "ths = 0.99999\n",
    "depth = 3\n",
    "\n",
    "\n",
    "### Example circ\n",
    "\n",
    "ex_params = np.zeros((depth+1)*n +depth*(n-1))\n",
    "wfn = hweff_ansatz(n,depth,ex_params)\n",
    "\n",
    "\n",
    "### Shift\n",
    "shift  = np.array(len(ex_params)*[0.01])\n",
    "\n",
    "print(\"Initial shift:\",shift)\n",
    "\n",
    "\n",
    "### Generate the Hamiltonian\n",
    "H = walsh_quantum_trotter(potential, initial_wave_function, n, L, dt, D=1/2, terms_kept=None, verbose=True, gate_count_only=False)\n",
    "\n",
    "print(wfn)\n",
    "# print(H)\n",
    "\n",
    "### Backend\n",
    "shots = 8000\n",
    "backend  = Aer.get_backend('qasm_simulator')\n",
    "instance = QuantumInstance(backend=backend,shots=shots)\n",
    "\n",
    "# ### Prepare the observables to measure\n",
    "# obs = {}\n"
   ]
  },
  {
   "cell_type": "code",
   "execution_count": null,
   "id": "8cab5699",
   "metadata": {},
   "outputs": [],
   "source": [
    "### Initialize the algorithm\n",
    "\n",
    "# Choose a specific set of parameters\n",
    "initial_point = None\n",
    "\n",
    "# Choose the gradient optimizer: 'sgd', 'adam'\n",
    "opt  = 'sgd'\n",
    "# Choose how to estimate the gradient on hardware: 'param_shift', 'spsa'\n",
    "grad = 'param_shift'\n",
    "# Choose which type of cost function use: 'global', 'local'\n",
    "cost = 'local'\n",
    "\n",
    "\n",
    "algo = pVQD(hamiltonian   = H,\n",
    "\t\t\tansatz        = hweff_ansatz,\n",
    "\t\t\tansatz_reps   = depth,\n",
    "\t\t\tparameters    = ex_params,\n",
    "\t\t\tinitial_shift = shift,\n",
    "\t\t\tinstance      = instance,\n",
    "\t\t\tshots         = shots)\n",
    "\n",
    "algo.run(ths,dt,n_steps, \n",
    "\t     obs_dict      = obs,\n",
    "\t     filename      = 'data/test_results.dat',\n",
    "\t     max_iter      = 50,\n",
    "\t     opt           = opt,\n",
    "\t     cost_fun      = cost,\n",
    "\t     grad          = grad,\n",
    "\t     initial_point = initial_point,\n",
    "         is_circuit    = True)"
   ]
  }
 ],
 "metadata": {
  "kernelspec": {
   "display_name": "Python 3 (ipykernel)",
   "language": "python",
   "name": "python3"
  },
  "language_info": {
   "codemirror_mode": {
    "name": "ipython",
    "version": 3
   },
   "file_extension": ".py",
   "mimetype": "text/x-python",
   "name": "python",
   "nbconvert_exporter": "python",
   "pygments_lexer": "ipython3",
   "version": "3.9.12"
  }
 },
 "nbformat": 4,
 "nbformat_minor": 5
}
