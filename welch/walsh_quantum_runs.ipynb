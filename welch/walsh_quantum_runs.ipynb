{
 "cells": [
  {
   "cell_type": "markdown",
   "id": "744d1dca",
   "metadata": {},
   "source": [
    "# Quantum Simulation of Tunneling through an Eckart Barrier"
   ]
  },
  {
   "cell_type": "code",
   "execution_count": 1,
   "id": "cd52fdd5",
   "metadata": {},
   "outputs": [],
   "source": [
    "from walsh_evolution import *\n",
    "import sys\n",
    "sys.path.insert(0, './../classical/')\n",
    "from classical_evolution import *\n",
    "normalize = lambda x: x / np.linalg.norm(x)\n"
   ]
  },
  {
   "cell_type": "markdown",
   "id": "65f3f5f2",
   "metadata": {},
   "source": [
    "## Eckart Barrier Example"
   ]
  },
  {
   "cell_type": "code",
   "execution_count": 2,
   "id": "6e1d386d",
   "metadata": {},
   "outputs": [],
   "source": [
    "# n = 7\n",
    "# N = 2**n\n",
    "# L = 5\n",
    "# x_grid = np.linspace(-5, 5, N)\n",
    "# repeats = 10\n",
    "# plot_grid = np.arange(-L, L, 2*L/(N*repeats))\n",
    "# potential = lambda x: 100/np.cosh(x/.5)\n",
    "# a = wft(potential, n, x_grid)\n",
    "# approx = iwft(a, n, terms_kept=19)\n",
    "# plt.plot(x_grid, potential(x_grid), label='analytic')\n",
    "# plt.plot(plot_grid, np.repeat(approx, repeats))\n",
    "# plt.show()\n"
   ]
  },
  {
   "cell_type": "code",
   "execution_count": 3,
   "id": "71d49f08",
   "metadata": {},
   "outputs": [],
   "source": [
    "# T = .5\n",
    "# K = 25\n",
    "# x0 = -3.0  # Initial position\n",
    "# p0 = 15.0  # Initial momentum\n",
    "# sigma = 0.5\n",
    "# def eckart_initial_wave_function(x):\n",
    "#     val = np.exp(-(x - x0)**2 / (2 * sigma**2) + 1j*p0*(x - x0))\n",
    "#     return normalize(val)\n",
    "\n",
    "# # states, t_grid, x_grid = walsh_evolve_2(potential, eckart_initial_wave_function, n, L, K, T)\n",
    "# states, t_grid, x_grid = walsh_evolve_quantum_2(potential, eckart_initial_wave_function, n, L, K, T)\n",
    "\n",
    "# amplitudes = np.abs(states)**2\n",
    "# plot_time_evolution(amplitudes, t_grid, x_grid, interpolate_plot=True)\n"
   ]
  },
  {
   "cell_type": "markdown",
   "id": "a1854396",
   "metadata": {},
   "source": [
    "## Quadratic Potential Example"
   ]
  },
  {
   "cell_type": "code",
   "execution_count": 4,
   "id": "c2326861",
   "metadata": {},
   "outputs": [
    {
     "ename": "SyntaxError",
     "evalue": "invalid syntax (945211027.py, line 15)",
     "output_type": "error",
     "traceback": [
      "\u001b[0;36m  Cell \u001b[0;32mIn[4], line 15\u001b[0;36m\u001b[0m\n\u001b[0;31m    error2.append(np.linalg.norm(np.abs(states2[i, :])**2 - np.abs(true_sol(x_grid2, t_grid1[i]))**2)/np.linalg.norm(np.abs(true_sol(x_grid2, t_grid2[i]))**2))plt.semilogy(t_grid1, error1, label='First Order')\u001b[0m\n\u001b[0m                                                                                                                                                               ^\u001b[0m\n\u001b[0;31mSyntaxError\u001b[0m\u001b[0;31m:\u001b[0m invalid syntax\n"
     ]
    }
   ],
   "source": [
    "potential = lambda x: x**2\n",
    "true_sol = lambda x, t: normalize(1/np.sqrt(2)*np.pi**(-1/4)*(2*x**2 - 1)*np.exp(-x**2/2)*np.exp(-1j*5*t))\n",
    "initial_wave_function = lambda x: true_sol(x, 0)\n",
    "n, K = 7, 50\n",
    "T = .5\n",
    "L = 8\n",
    "\n",
    "states1, t_grid1, x_grid1 = walsh_evolve_quantum_1(potential, initial_wave_function, n, L, K, T, D=1)\n",
    "states2, t_grid2, x_grid2 = walsh_evolve_quantum_2(potential, initial_wave_function, n, L, K, T, D=1)\n",
    "\n",
    "error1 = []\n",
    "error2 = []\n",
    "for i in range(K + 1):\n",
    "    error1.append(np.linalg.norm(np.abs(states1[i, :])**2 - np.abs(true_sol(x_grid1, t_grid1[i]))**2)/np.linalg.norm(np.abs(true_sol(x_grid1, t_grid1[i]))**2))\n",
    "    error2.append(np.linalg.norm(np.abs(states2[i, :])**2 - np.abs(true_sol(x_grid2, t_grid1[i]))**2)/np.linalg.norm(np.abs(true_sol(x_grid2, t_grid2[i]))**2))\n",
    "\n",
    "plt.semilogy(t_grid1, error1, label='First Order')\n",
    "plt.semilogy(t_grid2, error2, label='Second Order')\n",
    "plt.legend()\n",
    "plt.xlabel('t')\n",
    "plt.ylabel('MSE')\n",
    "plt.show()\n"
   ]
  },
  {
   "cell_type": "code",
   "execution_count": null,
   "id": "9cfef186",
   "metadata": {},
   "outputs": [],
   "source": [
    "n = 7\n",
    "k_vals = [10, 20, 30, 40, 50]\n",
    "error1, error2 = [], []\n",
    "i = 0\n",
    "\n",
    "\n",
    "for k in k_vals:\n",
    "    states1, t_grid1, x_grid1 = walsh_evolve_quantum_1(potential, initial_wave_function, n, L, k, T, D=1)\n",
    "    states2, t_grid2, x_grid2 = walsh_evolve_quantum_2(potential, initial_wave_function, n, L, k, T, D=1)\n",
    "    error1.append(np.linalg.norm(np.abs(states1[-1, :])**2 - np.abs(true_sol(x_grid1, t_grid1[-1]))**2)/np.linalg.norm(np.abs(true_sol(x_grid1, t_grid1[-1]))**2))\n",
    "    error2.append(np.linalg.norm(np.abs(states2[-1, :])**2 - np.abs(true_sol(x_grid2, t_grid2[-1]))**2)/np.linalg.norm(np.abs(true_sol(x_grid2, t_grid2[-1]))**2))\n",
    "\n",
    "plt.loglog(k_vals, error1, base=2, label='First Order')\n",
    "plt.loglog(k_vals, error2, base=2, label='Second Order')\n",
    "plt.legend()\n",
    "plt.xlabel('Number of Time Steps')\n",
    "plt.ylabel('MSE')\n",
    "plt.title('Comparing to True Solution')\n",
    "plt.show()\n"
   ]
  },
  {
   "cell_type": "code",
   "execution_count": null,
   "id": "11e7bcca",
   "metadata": {},
   "outputs": [],
   "source": [
    "plt.plot(x_grid1, np.abs(states1[-1, :])**2)\n",
    "plt.plot(x_grid2, np.abs(states2[-1, :])**2)\n",
    "\n",
    "plt.plot(x_grid1, np.abs(true_sol(x_grid1, t_grid1[-1]))**2, ':k')\n"
   ]
  }
 ],
 "metadata": {
  "kernelspec": {
   "display_name": "Python 3 (ipykernel)",
   "language": "python",
   "name": "python3"
  },
  "language_info": {
   "codemirror_mode": {
    "name": "ipython",
    "version": 3
   },
   "file_extension": ".py",
   "mimetype": "text/x-python",
   "name": "python",
   "nbconvert_exporter": "python",
   "pygments_lexer": "ipython3",
   "version": "3.9.18"
  }
 },
 "nbformat": 4,
 "nbformat_minor": 5
}
