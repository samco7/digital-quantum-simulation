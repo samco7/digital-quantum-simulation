{
 "cells": [
  {
   "cell_type": "markdown",
   "id": "744d1dca",
   "metadata": {},
   "source": [
    "# Quantum Simulation of Tunneling through an Eckart Barrier"
   ]
  },
  {
   "cell_type": "code",
   "execution_count": null,
   "id": "a8d8d344",
   "metadata": {},
   "outputs": [],
   "source": [
    "import numpy as np\n",
    "from sympy.combinatorics import GrayCode\n",
    "from scipy.interpolate import RegularGridInterpolator\n",
    "from tqdm import tqdm\n",
    "import matplotlib.pyplot as plt\n",
    "plt.style.use('seaborn-v0_8')"
   ]
  },
  {
   "cell_type": "code",
   "execution_count": null,
   "id": "ee6e390e",
   "metadata": {},
   "outputs": [],
   "source": [
    "from qiskit import QuantumCircuit, ClassicalRegister, QuantumRegister, transpile\n",
    "from qiskit.tools.visualization import circuit_drawer\n",
    "from qiskit.quantum_info import state_fidelity\n",
    "from qiskit import Aer\n",
    "from qiskit.tools.visualization import plot_histogram, plot_state_city\n",
    "from qiskit.circuit.library import QFT\n",
    "from qiskit.extensions import Initialize\n",
    "from qiskit.quantum_info import Statevector"
   ]
  },
  {
   "cell_type": "code",
   "execution_count": null,
   "id": "2fe027ca",
   "metadata": {},
   "outputs": [],
   "source": [
    "#walsh function w_j(x_k) in sequency order\n",
    "def w(j, k, n):\n",
    "    j_binary = format(j, f'0{n}b')\n",
    "    k_dyadic = format(k, f'0{n}b')[::-1]\n",
    "    exponent = 0 \n",
    "    for i in range(n):\n",
    "        exponent += int(j_binary[i])*int(k_dyadic[i])\n",
    "    return (-1)**exponent\n",
    "\n",
    "#full array of discrete walsh-fourier transform coefficients a_j\n",
    "def wft(f, n, x_grid):\n",
    "    #coefficient a_j in the discrete walsh-fourier transform of f\n",
    "    def a_j(f, j, n):\n",
    "        N = 2**n\n",
    "        a_val = 0 \n",
    "        for k in range(N):\n",
    "            a_val += f(x_grid[k])*w(j, k, n)\n",
    "        return a_val/N\n",
    "    return np.array([a_j(f, j, n) for j in range(2**n)])\n",
    "\n",
    "#array of inverse discrete walsh-fourier transform coefficients f_k (keeping terms_kept most significant terms)\n",
    "def iwft(a, n, terms_kept=None):\n",
    "    if terms_kept is not None:\n",
    "        sorted_indices = np.argsort(np.abs(a))[::-1]\n",
    "        kept_indices = sorted_indices[:terms_kept]\n",
    "    else:\n",
    "        kept_indices = list(range(2**n))\n",
    "    #coefficient f_k in the inverse discrete walsh-fourier transform\n",
    "    def f_k(a_vals, k, n, kept_indices):\n",
    "        N = 2**n \n",
    "        f_val = 0 \n",
    "        for j in kept_indices:\n",
    "            f_val += a_vals[j]*w(j, k, n)\n",
    "        return f_val\n",
    "    return np.array([f_k(a, k, n, kept_indices) for k in range(2**n)])"
   ]
  },
  {
   "cell_type": "code",
   "execution_count": null,
   "id": "e41a9571",
   "metadata": {},
   "outputs": [],
   "source": [
    "n = 7\n",
    "N = 2**n\n",
    "k_grid = np.arange(0, N, 1)\n",
    "x_grid = np.linspace(0, 1, N)\n",
    "repeats = 10\n",
    "plot_grid = np.arange(1/(2*N*repeats), 1, 1/(N*repeats))\n",
    "potential = lambda x: 1/np.cosh((x - .5)/(0.5/10))\n",
    "a = wft(potential, n, x_grid)\n",
    "approx = iwft(a, n, terms_kept=19)\n",
    "\n",
    "plt.plot(x_grid, potential(x_grid), label='analytic')\n",
    "plt.plot(plot_grid, np.repeat(approx, repeats))\n",
    "plt.show()\n"
   ]
  },
  {
   "cell_type": "code",
   "execution_count": null,
   "id": "6e1d386d",
   "metadata": {},
   "outputs": [],
   "source": [
    "n = 9\n",
    "N = 2**n\n",
    "L = 5\n",
    "k_grid = np.arange(0, N, 1)\n",
    "x_grid = np.linspace(-5, 5, N)\n",
    "repeats = 10\n",
    "plot_grid = np.arange(-L, L, 2*L/(N*repeats))\n",
    "potential = lambda x: 100/np.cosh(x/.5)\n",
    "a = wft(potential, n, x_grid)\n",
    "approx = iwft(a, n, terms_kept=19)\n",
    "# # create a line plot\n",
    "plt.plot(x_grid, potential(x_grid), label='analytic')\n",
    "plt.plot(plot_grid, np.repeat(approx, repeats))\n",
    "plt.show()\n"
   ]
  },
  {
   "cell_type": "code",
   "execution_count": null,
   "id": "423fe12d",
   "metadata": {},
   "outputs": [],
   "source": [
    "# Function that gives the partitioned sets by the most significant non-zero bit (MSB) from the number of qubits\n",
    "def gray_partitions(n):\n",
    "    # List the Gray code\n",
    "    g = GrayCode(n)\n",
    "    gray_list = list(g.generate_gray())[1:]\n",
    "    \n",
    "    # Create a dictionary collecting the lists\n",
    "    partitions = [[] for _ in range(n)]\n",
    "\n",
    "    # Figure out the MSB and arrange the partiton\n",
    "    for entry in gray_list:\n",
    "        index = entry.find('1')\n",
    "        partitions[n - 1 - index].append(entry)\n",
    "    return partitions    \n",
    "\n",
    "# Function that gives the position of the targeted part of the CNOT\n",
    "def get_control(bitstring1, bitstring2, n):\n",
    "    xor = ''.join([str(int(bit1) ^ int(bit2)) for bit1, bit2 in zip(bitstring1, bitstring2)])\n",
    "    return n - 1 - xor.find('1')"
   ]
  },
  {
   "cell_type": "code",
   "execution_count": null,
   "id": "0bc52d47",
   "metadata": {},
   "outputs": [],
   "source": [
    "# Function that implements the unitary diagonals\n",
    "def unitary_circuit(f, n, dt, x_grid, terms_kept=None):\n",
    "    circ = QuantumCircuit(n)\n",
    "    a = wft(f, n, x_grid)\n",
    "    a_kept = np.copy(a)\n",
    "    if terms_kept is not None:\n",
    "        sorted_indices = np.argsort(np.abs(a))[::-1]\n",
    "        dropped_indices = sorted_indices[terms_kept:]\n",
    "        a_kept[dropped_indices] = 0\n",
    "    partitions = gray_partitions(n)\n",
    "    for partition, target in zip(partitions, range(n)):\n",
    "        if len(partition) == 1: \n",
    "            index = eval('0b' + partition[0])\n",
    "            theta = a_kept[index]\n",
    "            if np.abs(theta) > 0:\n",
    "                circ.rz(2*theta*dt, target)\n",
    "            continue\n",
    "        for i in range(len(partition)):\n",
    "            index = eval('0b' + partition[i])\n",
    "            theta = a_kept[index]\n",
    "            control = get_control(partition[i - 1], partition[i], n)\n",
    "            circ.cnot(control, target)\n",
    "            if np.abs(theta) > 0:\n",
    "                circ.rz(2*theta*dt, target) \n",
    "    circ = transpile(circ, optimization_level=3)\n",
    "    return circ\n",
    "\n",
    "# unitary_circuit(potential, 6, dt, x_grid).draw('mpl')"
   ]
  },
  {
   "cell_type": "code",
   "execution_count": null,
   "id": "1fa5dde2",
   "metadata": {},
   "outputs": [],
   "source": [
    "def trotter_step(n_q, dx, dt):\n",
    "    \"\"\"Apply the kinetic term of a single iteration of the Zalka-Wiesner algorithm.\n",
    "    Args:\n",
    "        n_q: number of qubits that define the grid.\n",
    "        d: limits of the grid, i.e., x is defined in [-d, d).\n",
    "        dt: duration of each discrete time step.\n",
    "\n",
    "    Returns:\n",
    "        qc: quantum circuit right after this step.\n",
    "    \"\"\"\n",
    "    qc = QuantumCircuit(n_q)\n",
    "    N = 2**n_q\n",
    "\n",
    "    p_vals = (2 * np.pi * np.fft.fftfreq(N, d=dx))[[2**k for k in range(n_q)]]\n",
    "    p_sum = sum(p_vals)\n",
    "\n",
    "    for j in range(n_q):\n",
    "        alpha_j = -(dt / 2) * p_vals[j] ** 2 - (dt / 2) * p_vals[j] * (p_sum - p_vals[j])\n",
    "        qc.rz(alpha_j, j)\n",
    "\n",
    "    for j in range(n_q):\n",
    "        for l in range(j + 1, n_q):\n",
    "                gamma_jl = (dt / 2) * p_vals[j] * p_vals[l]\n",
    "                qc.cx(j, l)\n",
    "                qc.rz(gamma_jl, l)\n",
    "                qc.cx(j, l)\n",
    "    return qc"
   ]
  },
  {
   "cell_type": "code",
   "execution_count": null,
   "id": "0deba41b",
   "metadata": {},
   "outputs": [],
   "source": [
    "# Constants\n",
    "hbar = 1.0  # Reduced Planck's constant\n",
    "m = 1.0     # Mass of the particle\n",
    "x0 = -3.0  # Initial position\n",
    "p0 = 15.0  # Initial momentum\n",
    "sigma = 0.5\n",
    "L = 5    # Spatial domain [-L, L]\n",
    "n = 8  # Number of qubits \n",
    "terms_kept = 30 # Number of Walsh functions\n",
    "N = 2**n   # Number of spatial grid points\n",
    "T = .6   # Length of the temporal domain\n",
    "K = 100   # Number of temporal grid points\n",
    "\n",
    "x_grid = np.linspace(-L, L, N)\n",
    "t_grid = np.linspace(0, T, K)\n",
    "dx, dt = x_grid[1] - x_grid[0], t_grid[1] - t_grid[0]\n",
    "\n",
    "# Define the potential energy\n",
    "potential = lambda x: 100/np.cosh(x/.5)\n",
    "\n",
    "def initial_wave_function(x, x0, sigma, p0):\n",
    "    return np.exp(-(x - x0)**2 / (2 * sigma**2) + 1j*p0*(x - x0))"
   ]
  },
  {
   "cell_type": "code",
   "execution_count": 10,
   "id": "e5456ce1",
   "metadata": {},
   "outputs": [
    {
     "name": "stderr",
     "output_type": "stream",
     "text": [
      "100%|██████████| 100/100 [19:23<00:00, 11.63s/it]\n"
     ]
    }
   ],
   "source": [
    "# Initializing the quantum circuit\n",
    "qc = QuantumCircuit(n)\n",
    "\n",
    "# Initialize the initial wave function\n",
    "desired_vector = initial_wave_function(x_grid, x0, sigma, p0)\n",
    "wave_func = desired_vector/np.linalg.norm(desired_vector)\n",
    "\n",
    "# Initialize(params = wave_func)\n",
    "qc.prepare_state(state=wave_func)\n",
    "\n",
    "potential_step = unitary_circuit(potential, n, dt, x_grid, terms_kept=terms_kept)\n",
    "kinetic_step = trotter_step(n, dx, dt)\n",
    "\n",
    "iqft = QFT(num_qubits=n, inverse=True).to_gate()\n",
    "qft = QFT(num_qubits=n).to_gate()\n",
    "\n",
    "states = []\n",
    "progress = tqdm(total=K)\n",
    "for i in range(K):\n",
    "    # Gives the potential energy\n",
    "    qc.append(potential_step, qargs=[i for i in range(n)][::-1])\n",
    "\n",
    "    # Apply the inverse QFT                \n",
    "    qc.append(iqft, qargs=[i for i in range(n)])\n",
    "\n",
    "    # Gives the kinetic energy\n",
    "    qc.append(kinetic_step, qargs=[i for i in range(n)])\n",
    "\n",
    "    # Apply the QFT                \n",
    "    qc.append(qft, qargs=[i for i in range(n)])\n",
    "    \n",
    "    progress.update(1)\n",
    "    states.append(Statevector.from_instruction(qc))\n",
    "progress.close()\n",
    "amplitudes = np.abs(np.array(states))**2"
   ]
  },
  {
   "cell_type": "code",
   "execution_count": 11,
   "id": "50401f82",
   "metadata": {},
   "outputs": [
    {
     "data": {
      "image/png": "[encoded data removed]",
      "text/plain": [
       "<Figure size 800x550 with 1 Axes>"
      ]
     },
     "metadata": {},
     "output_type": "display_data"
    }
   ],
   "source": [
    "T, X = np.meshgrid(t_grid, x_grid)\n",
    "C = amplitudes.T\n",
    "plt.pcolor(T, -X, C, cmap='magma')\n",
    "plt.yticks([-5, 0, 5], [5, 0, -5])\n",
    "plt.show()"
   ]
  }
 ],
 "metadata": {
  "kernelspec": {
   "display_name": "Python 3 (ipykernel)",
   "language": "python",
   "name": "python3"
  },
  "language_info": {
   "codemirror_mode": {
    "name": "ipython",
    "version": 3
   },
   "file_extension": ".py",
   "mimetype": "text/x-python",
   "name": "python",
   "nbconvert_exporter": "python",
   "pygments_lexer": "ipython3",
   "version": "3.9.17"
  }
 },
 "nbformat": 4,
 "nbformat_minor": 5
}
